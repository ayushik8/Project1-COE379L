{
 "cells": [
  {
   "cell_type": "code",
   "execution_count": 1,
   "id": "cd714f68-9f3c-4a64-91b4-65ad52782e3a",
   "metadata": {},
   "outputs": [
    {
     "name": "stderr",
     "output_type": "stream",
     "text": [
      "/tmp/ipykernel_18296/608951304.py:2: DeprecationWarning: \n",
      "Pyarrow will become a required dependency of pandas in the next major release of pandas (pandas 3.0),\n",
      "(to allow more performant data types, such as the Arrow string type, and better interoperability with other libraries)\n",
      "but was not found to be installed on your system.\n",
      "If this would cause problems for you,\n",
      "please provide us feedback at https://github.com/pandas-dev/pandas/issues/54466\n",
      "        \n",
      "  import pandas as pd\n"
     ]
    }
   ],
   "source": [
    "import numpy as np\n",
    "import pandas as pd\n",
    "import sklearn\n",
    "from sklearn import linear_model\n",
    "import matplotlib.pyplot as plt\n",
    "import seaborn as sns"
   ]
  },
  {
   "cell_type": "code",
   "execution_count": 2,
   "id": "76932004-ad9f-4bca-8cb6-1bf5caa41df2",
   "metadata": {},
   "outputs": [],
   "source": [
    "data = pd.read_csv('project1.csv')"
   ]
  },
  {
   "cell_type": "markdown",
   "id": "930e65cb-1122-41c9-9e70-47c157e074b0",
   "metadata": {},
   "source": [
    "# Part 1\n",
    "### Identify shape, size of the raw data (1 point)"
   ]
  },
  {
   "cell_type": "code",
   "execution_count": 3,
   "id": "fbe333af-5982-4400-9d52-a810c9cc70a3",
   "metadata": {},
   "outputs": [
    {
     "data": {
      "text/plain": [
       "(131165, 12)"
      ]
     },
     "execution_count": 3,
     "metadata": {},
     "output_type": "execute_result"
    }
   ],
   "source": [
    "data.shape"
   ]
  },
  {
   "cell_type": "markdown",
   "id": "5c4f2bb8-4fb5-4bca-956f-76caf421a6aa",
   "metadata": {},
   "source": [
    "Initial shape of the dataset is 12 columns and 131165 entries. "
   ]
  },
  {
   "cell_type": "code",
   "execution_count": 4,
   "id": "918e74ad-722e-4a12-9773-96ca5397a0bc",
   "metadata": {},
   "outputs": [
    {
     "data": {
      "text/plain": [
       "1573980"
      ]
     },
     "execution_count": 4,
     "metadata": {},
     "output_type": "execute_result"
    }
   ],
   "source": [
    "data.size"
   ]
  },
  {
   "cell_type": "code",
   "execution_count": 5,
   "id": "e015038e-3c59-430a-bc99-38b7943192a2",
   "metadata": {},
   "outputs": [
    {
     "name": "stdout",
     "output_type": "stream",
     "text": [
      "<class 'pandas.core.frame.DataFrame'>\n",
      "RangeIndex: 131165 entries, 0 to 131164\n",
      "Data columns (total 12 columns):\n",
      " #   Column            Non-Null Count   Dtype \n",
      "---  ------            --------------   ----- \n",
      " 0   Animal ID         131165 non-null  object\n",
      " 1   Date of Birth     131165 non-null  object\n",
      " 2   Name              93658 non-null   object\n",
      " 3   DateTime          131165 non-null  object\n",
      " 4   MonthYear         131165 non-null  object\n",
      " 5   Outcome Type      131125 non-null  object\n",
      " 6   Outcome Subtype   65810 non-null   object\n",
      " 7   Animal Type       131165 non-null  object\n",
      " 8   Sex upon Outcome  131165 non-null  object\n",
      " 9   Age upon Outcome  131165 non-null  object\n",
      " 10  Breed             131165 non-null  object\n",
      " 11  Color             131165 non-null  object\n",
      "dtypes: object(12)\n",
      "memory usage: 12.0+ MB\n"
     ]
    }
   ],
   "source": [
    "data.info()"
   ]
  },
  {
   "cell_type": "code",
   "execution_count": 6,
   "id": "3d0b810f-5fb0-44f4-9ba0-048393125e5c",
   "metadata": {},
   "outputs": [
    {
     "data": {
      "text/html": [
       "<div>\n",
       "<style scoped>\n",
       "    .dataframe tbody tr th:only-of-type {\n",
       "        vertical-align: middle;\n",
       "    }\n",
       "\n",
       "    .dataframe tbody tr th {\n",
       "        vertical-align: top;\n",
       "    }\n",
       "\n",
       "    .dataframe thead th {\n",
       "        text-align: right;\n",
       "    }\n",
       "</style>\n",
       "<table border=\"1\" class=\"dataframe\">\n",
       "  <thead>\n",
       "    <tr style=\"text-align: right;\">\n",
       "      <th></th>\n",
       "      <th>Animal ID</th>\n",
       "      <th>Date of Birth</th>\n",
       "      <th>Name</th>\n",
       "      <th>DateTime</th>\n",
       "      <th>MonthYear</th>\n",
       "      <th>Outcome Type</th>\n",
       "      <th>Outcome Subtype</th>\n",
       "      <th>Animal Type</th>\n",
       "      <th>Sex upon Outcome</th>\n",
       "      <th>Age upon Outcome</th>\n",
       "      <th>Breed</th>\n",
       "      <th>Color</th>\n",
       "    </tr>\n",
       "  </thead>\n",
       "  <tbody>\n",
       "    <tr>\n",
       "      <th>0</th>\n",
       "      <td>A680855</td>\n",
       "      <td>5/25/14</td>\n",
       "      <td>NaN</td>\n",
       "      <td>2014-06-10T00:00:00-05:00</td>\n",
       "      <td>Jun-14</td>\n",
       "      <td>Transfer</td>\n",
       "      <td>Partner</td>\n",
       "      <td>Bird</td>\n",
       "      <td>Unknown</td>\n",
       "      <td>2 weeks</td>\n",
       "      <td>Duck</td>\n",
       "      <td>Yellow/Black</td>\n",
       "    </tr>\n",
       "    <tr>\n",
       "      <th>1</th>\n",
       "      <td>A680857</td>\n",
       "      <td>5/25/14</td>\n",
       "      <td>NaN</td>\n",
       "      <td>2014-06-10T00:00:00-05:00</td>\n",
       "      <td>Jun-14</td>\n",
       "      <td>Transfer</td>\n",
       "      <td>Partner</td>\n",
       "      <td>Bird</td>\n",
       "      <td>Unknown</td>\n",
       "      <td>2 weeks</td>\n",
       "      <td>Duck</td>\n",
       "      <td>Yellow/Black</td>\n",
       "    </tr>\n",
       "    <tr>\n",
       "      <th>2</th>\n",
       "      <td>A680858</td>\n",
       "      <td>5/25/14</td>\n",
       "      <td>NaN</td>\n",
       "      <td>2014-06-10T00:00:00-05:00</td>\n",
       "      <td>Jun-14</td>\n",
       "      <td>Transfer</td>\n",
       "      <td>Partner</td>\n",
       "      <td>Bird</td>\n",
       "      <td>Unknown</td>\n",
       "      <td>2 weeks</td>\n",
       "      <td>Duck</td>\n",
       "      <td>Yellow/Black</td>\n",
       "    </tr>\n",
       "    <tr>\n",
       "      <th>3</th>\n",
       "      <td>A680859</td>\n",
       "      <td>5/25/14</td>\n",
       "      <td>NaN</td>\n",
       "      <td>2014-06-10T00:00:00-05:00</td>\n",
       "      <td>Jun-14</td>\n",
       "      <td>Transfer</td>\n",
       "      <td>Partner</td>\n",
       "      <td>Bird</td>\n",
       "      <td>Unknown</td>\n",
       "      <td>2 weeks</td>\n",
       "      <td>Duck</td>\n",
       "      <td>Yellow/Black</td>\n",
       "    </tr>\n",
       "    <tr>\n",
       "      <th>4</th>\n",
       "      <td>A680860</td>\n",
       "      <td>5/25/14</td>\n",
       "      <td>NaN</td>\n",
       "      <td>2014-06-10T00:00:00-05:00</td>\n",
       "      <td>Jun-14</td>\n",
       "      <td>Transfer</td>\n",
       "      <td>Partner</td>\n",
       "      <td>Bird</td>\n",
       "      <td>Unknown</td>\n",
       "      <td>2 weeks</td>\n",
       "      <td>Duck</td>\n",
       "      <td>Yellow/Black</td>\n",
       "    </tr>\n",
       "    <tr>\n",
       "      <th>...</th>\n",
       "      <td>...</td>\n",
       "      <td>...</td>\n",
       "      <td>...</td>\n",
       "      <td>...</td>\n",
       "      <td>...</td>\n",
       "      <td>...</td>\n",
       "      <td>...</td>\n",
       "      <td>...</td>\n",
       "      <td>...</td>\n",
       "      <td>...</td>\n",
       "      <td>...</td>\n",
       "      <td>...</td>\n",
       "    </tr>\n",
       "    <tr>\n",
       "      <th>131160</th>\n",
       "      <td>A671874</td>\n",
       "      <td>1/31/12</td>\n",
       "      <td>NaN</td>\n",
       "      <td>2014-02-04T10:14:00</td>\n",
       "      <td>Feb-14</td>\n",
       "      <td>Transfer</td>\n",
       "      <td>SCRP</td>\n",
       "      <td>Cat</td>\n",
       "      <td>Intact Male</td>\n",
       "      <td>2 years</td>\n",
       "      <td>Domestic Shorthair Mix</td>\n",
       "      <td>Brown Tabby</td>\n",
       "    </tr>\n",
       "    <tr>\n",
       "      <th>131161</th>\n",
       "      <td>A672142</td>\n",
       "      <td>2/4/09</td>\n",
       "      <td>Toby</td>\n",
       "      <td>2014-02-08T10:14:00</td>\n",
       "      <td>Feb-14</td>\n",
       "      <td>Transfer</td>\n",
       "      <td>Partner</td>\n",
       "      <td>Dog</td>\n",
       "      <td>Intact Male</td>\n",
       "      <td>5 years</td>\n",
       "      <td>Pekingese</td>\n",
       "      <td>Red/White</td>\n",
       "    </tr>\n",
       "    <tr>\n",
       "      <th>131162</th>\n",
       "      <td>A671565</td>\n",
       "      <td>7/6/13</td>\n",
       "      <td>NaN</td>\n",
       "      <td>2014-02-07T10:14:00</td>\n",
       "      <td>Feb-14</td>\n",
       "      <td>Transfer</td>\n",
       "      <td>SCRP</td>\n",
       "      <td>Cat</td>\n",
       "      <td>Spayed Female</td>\n",
       "      <td>7 months</td>\n",
       "      <td>Domestic Medium Hair Mix</td>\n",
       "      <td>Brown Tabby</td>\n",
       "    </tr>\n",
       "    <tr>\n",
       "      <th>131163</th>\n",
       "      <td>A675119</td>\n",
       "      <td>2/16/14</td>\n",
       "      <td>NaN</td>\n",
       "      <td>2014-03-27T08:00:00</td>\n",
       "      <td>Mar-14</td>\n",
       "      <td>Transfer</td>\n",
       "      <td>Partner</td>\n",
       "      <td>Dog</td>\n",
       "      <td>Intact Male</td>\n",
       "      <td>1 month</td>\n",
       "      <td>Pomeranian Mix</td>\n",
       "      <td>White/Brown</td>\n",
       "    </tr>\n",
       "    <tr>\n",
       "      <th>131164</th>\n",
       "      <td>A678559</td>\n",
       "      <td>5/10/11</td>\n",
       "      <td>Gatsby</td>\n",
       "      <td>2014-05-14T08:00:00</td>\n",
       "      <td>May-14</td>\n",
       "      <td>Transfer</td>\n",
       "      <td>Partner</td>\n",
       "      <td>Dog</td>\n",
       "      <td>Intact Male</td>\n",
       "      <td>3 years</td>\n",
       "      <td>Pekingese/Lhasa Apso</td>\n",
       "      <td>Buff</td>\n",
       "    </tr>\n",
       "  </tbody>\n",
       "</table>\n",
       "<p>131165 rows × 12 columns</p>\n",
       "</div>"
      ],
      "text/plain": [
       "       Animal ID Date of Birth    Name                   DateTime MonthYear  \\\n",
       "0        A680855       5/25/14     NaN  2014-06-10T00:00:00-05:00    Jun-14   \n",
       "1        A680857       5/25/14     NaN  2014-06-10T00:00:00-05:00    Jun-14   \n",
       "2        A680858       5/25/14     NaN  2014-06-10T00:00:00-05:00    Jun-14   \n",
       "3        A680859       5/25/14     NaN  2014-06-10T00:00:00-05:00    Jun-14   \n",
       "4        A680860       5/25/14     NaN  2014-06-10T00:00:00-05:00    Jun-14   \n",
       "...          ...           ...     ...                        ...       ...   \n",
       "131160   A671874       1/31/12     NaN        2014-02-04T10:14:00    Feb-14   \n",
       "131161   A672142        2/4/09    Toby        2014-02-08T10:14:00    Feb-14   \n",
       "131162   A671565        7/6/13     NaN        2014-02-07T10:14:00    Feb-14   \n",
       "131163   A675119       2/16/14     NaN        2014-03-27T08:00:00    Mar-14   \n",
       "131164   A678559       5/10/11  Gatsby        2014-05-14T08:00:00    May-14   \n",
       "\n",
       "       Outcome Type Outcome Subtype Animal Type Sex upon Outcome  \\\n",
       "0          Transfer         Partner        Bird          Unknown   \n",
       "1          Transfer         Partner        Bird          Unknown   \n",
       "2          Transfer         Partner        Bird          Unknown   \n",
       "3          Transfer         Partner        Bird          Unknown   \n",
       "4          Transfer         Partner        Bird          Unknown   \n",
       "...             ...             ...         ...              ...   \n",
       "131160     Transfer            SCRP         Cat      Intact Male   \n",
       "131161     Transfer         Partner         Dog      Intact Male   \n",
       "131162     Transfer            SCRP         Cat    Spayed Female   \n",
       "131163     Transfer         Partner         Dog      Intact Male   \n",
       "131164     Transfer         Partner         Dog      Intact Male   \n",
       "\n",
       "       Age upon Outcome                     Breed         Color  \n",
       "0               2 weeks                      Duck  Yellow/Black  \n",
       "1               2 weeks                      Duck  Yellow/Black  \n",
       "2               2 weeks                      Duck  Yellow/Black  \n",
       "3               2 weeks                      Duck  Yellow/Black  \n",
       "4               2 weeks                      Duck  Yellow/Black  \n",
       "...                 ...                       ...           ...  \n",
       "131160          2 years    Domestic Shorthair Mix   Brown Tabby  \n",
       "131161          5 years                 Pekingese     Red/White  \n",
       "131162         7 months  Domestic Medium Hair Mix   Brown Tabby  \n",
       "131163          1 month            Pomeranian Mix   White/Brown  \n",
       "131164          3 years      Pekingese/Lhasa Apso          Buff  \n",
       "\n",
       "[131165 rows x 12 columns]"
      ]
     },
     "execution_count": 6,
     "metadata": {},
     "output_type": "execute_result"
    }
   ],
   "source": [
    "data"
   ]
  },
  {
   "cell_type": "markdown",
   "id": "77328c56-48bd-4126-9f31-05c868f54162",
   "metadata": {},
   "source": [
    "### Get information about datatypes. Comment if any of the variables need datatype conversion. Check for duplicate rows and treat them. (1 point)"
   ]
  },
  {
   "cell_type": "markdown",
   "id": "e92cea6e-fd7f-48fc-a2b3-3ed39ab0b370",
   "metadata": {},
   "source": [
    "All of the datatypes were object type, which we also saw above with the data.info command. I did not think that any of the variables needed datatype conversion at this time. Later, we will need to convert Age At Outcome to a continuous numerical variable and one-hot encode categorical variables.  "
   ]
  },
  {
   "cell_type": "code",
   "execution_count": 7,
   "id": "cfe3ea2d-4f7f-4865-bf6a-276d4b0bd752",
   "metadata": {},
   "outputs": [
    {
     "name": "stdout",
     "output_type": "stream",
     "text": [
      "<class 'pandas.core.frame.DataFrame'>\n",
      "object\n",
      "object\n",
      "object\n",
      "object\n",
      "object\n"
     ]
    }
   ],
   "source": [
    "print(type(data))\n",
    "print(data['Name'].dtype)\n",
    "print(data['DateTime'].dtype)\n",
    "print(data['Outcome Type'].dtype)\n",
    "print(data['Breed'].dtype)\n",
    "print(data['Color'].dtype)"
   ]
  },
  {
   "cell_type": "code",
   "execution_count": 8,
   "id": "48121de3-b26f-432f-ad5a-89b8cb562933",
   "metadata": {},
   "outputs": [
    {
     "data": {
      "text/plain": [
       "0         False\n",
       "1         False\n",
       "2         False\n",
       "3         False\n",
       "4         False\n",
       "          ...  \n",
       "131160    False\n",
       "131161    False\n",
       "131162    False\n",
       "131163    False\n",
       "131164    False\n",
       "Length: 131165, dtype: bool"
      ]
     },
     "execution_count": 8,
     "metadata": {},
     "output_type": "execute_result"
    }
   ],
   "source": [
    "data.duplicated()"
   ]
  },
  {
   "cell_type": "code",
   "execution_count": 9,
   "id": "4d56cbd4-acf5-44ff-bb15-1ad6cc268971",
   "metadata": {},
   "outputs": [
    {
     "name": "stdout",
     "output_type": "stream",
     "text": [
      "(131165, 12)\n",
      "17\n"
     ]
    }
   ],
   "source": [
    "print(data.shape)  \n",
    "print(data.duplicated().sum()) "
   ]
  },
  {
   "cell_type": "markdown",
   "id": "bea26164-89f9-4db5-98a6-a30b9afcee93",
   "metadata": {},
   "source": [
    "### Identify missing data and/or invalid values and treat them with suitable mean, median, mode or other method (1 point)"
   ]
  },
  {
   "cell_type": "markdown",
   "id": "7db722c3-4307-4447-bd28-3ffc444695aa",
   "metadata": {},
   "source": [
    "Initially, Name had 37507 null values, Outcome Type had 40 null, and Outcome Subtype had 65535 null. For Name and Outcome Subtype, I replaced null values with the string 'Unknown'. \n",
    "For outcome type, I dropped the values that were null. Since outcome type is the target variable, I didn't want to introduce variability. That is why I chose to simply drop those values."
   ]
  },
  {
   "cell_type": "code",
   "execution_count": 10,
   "id": "d282ded6-4f1c-4f60-96b2-b387e3a9dc72",
   "metadata": {},
   "outputs": [
    {
     "data": {
      "text/plain": [
       "Animal ID               0\n",
       "Date of Birth           0\n",
       "Name                37507\n",
       "DateTime                0\n",
       "MonthYear               0\n",
       "Outcome Type           40\n",
       "Outcome Subtype     65355\n",
       "Animal Type             0\n",
       "Sex upon Outcome        0\n",
       "Age upon Outcome        0\n",
       "Breed                   0\n",
       "Color                   0\n",
       "dtype: int64"
      ]
     },
     "execution_count": 10,
     "metadata": {},
     "output_type": "execute_result"
    }
   ],
   "source": [
    "data.isnull().sum()"
   ]
  },
  {
   "cell_type": "code",
   "execution_count": 11,
   "id": "f0d8afdd-c38a-4b7a-a996-20560dee4cf9",
   "metadata": {},
   "outputs": [],
   "source": [
    "data.fillna({'Name':'Unknown'}, inplace=True)     \n",
    "# modeOT = data['Outcome Type'].mode()[0]\n",
    "# data.dropna({'Outcome Type': modeOT}, inplace=True)\n",
    "data.fillna({'Outcome Subtype':'Unknown'}, inplace=True)\n",
    "data.dropna(subset=['Outcome Type'], inplace=True)"
   ]
  },
  {
   "cell_type": "code",
   "execution_count": 12,
   "id": "ca77f518-ab5c-432e-beef-0204426c3173",
   "metadata": {},
   "outputs": [
    {
     "data": {
      "text/plain": [
       "0         Unknown\n",
       "1         Unknown\n",
       "2         Unknown\n",
       "3         Unknown\n",
       "4         Unknown\n",
       "           ...   \n",
       "131160    Unknown\n",
       "131161       Toby\n",
       "131162    Unknown\n",
       "131163    Unknown\n",
       "131164     Gatsby\n",
       "Name: Name, Length: 131125, dtype: object"
      ]
     },
     "execution_count": 12,
     "metadata": {},
     "output_type": "execute_result"
    }
   ],
   "source": [
    "data['Name']"
   ]
  },
  {
   "cell_type": "code",
   "execution_count": 13,
   "id": "7e4dd8f7-bfb7-46b9-8fcb-45d6df9f13a9",
   "metadata": {},
   "outputs": [
    {
     "data": {
      "text/plain": [
       "0         Transfer\n",
       "1         Transfer\n",
       "2         Transfer\n",
       "3         Transfer\n",
       "4         Transfer\n",
       "            ...   \n",
       "131160    Transfer\n",
       "131161    Transfer\n",
       "131162    Transfer\n",
       "131163    Transfer\n",
       "131164    Transfer\n",
       "Name: Outcome Type, Length: 131125, dtype: object"
      ]
     },
     "execution_count": 13,
     "metadata": {},
     "output_type": "execute_result"
    }
   ],
   "source": [
    "data['Outcome Type']"
   ]
  },
  {
   "cell_type": "code",
   "execution_count": 14,
   "id": "61d9f593-6b0c-4fa9-a6d3-40eb469fb8c5",
   "metadata": {},
   "outputs": [
    {
     "data": {
      "text/plain": [
       "Animal ID           0\n",
       "Date of Birth       0\n",
       "Name                0\n",
       "DateTime            0\n",
       "MonthYear           0\n",
       "Outcome Type        0\n",
       "Outcome Subtype     0\n",
       "Animal Type         0\n",
       "Sex upon Outcome    0\n",
       "Age upon Outcome    0\n",
       "Breed               0\n",
       "Color               0\n",
       "dtype: int64"
      ]
     },
     "execution_count": 14,
     "metadata": {},
     "output_type": "execute_result"
    }
   ],
   "source": [
    "data.isnull().sum()"
   ]
  },
  {
   "cell_type": "code",
   "execution_count": 15,
   "id": "a6cd4e69-d379-4b2a-9c24-1a0400fe5f24",
   "metadata": {},
   "outputs": [
    {
     "name": "stdout",
     "output_type": "stream",
     "text": [
      "Animal ID: ['A680855' 'A680857' 'A680858' ... 'A672142' 'A675119' 'A678559']\n",
      "Date of Birth ['5/25/14' '4/22/14' '6/12/14' ... '3/9/25' '2/28/25' '3/19/25']\n",
      "Name ['Unknown' 'Jenny Tyson' '*Stetson' ... '*Gorgeous George' '*Hen' 'Nahtha']\n",
      "DateTime ['2014-06-10T00:00:00-05:00' '2014-07-11T00:00:00-05:00'\n",
      " '2014-07-12T00:00:00-05:00' ... '2014-02-08T10:14:00'\n",
      " '2014-02-07T10:14:00' '2014-05-14T08:00:00']\n",
      "MonthYear ['Jun-14' 'Jul-14' 'Aug-14' 'Sep-14' 'Dec-14' 'Jan-15' 'Feb-15' 'Mar-15'\n",
      " 'Apr-15' 'May-15' 'Jun-15' 'Jul-15' 'Aug-15' 'Sep-15' 'Oct-15' 'Nov-15'\n",
      " 'Dec-15' 'Jan-16' 'Feb-16' 'Mar-16' 'Apr-16' 'May-16' 'Jun-16' 'Jul-16'\n",
      " 'Aug-16' 'Sep-16' 'Oct-16' 'Nov-16' 'Dec-16' 'Jan-17' 'Feb-17' 'Mar-17'\n",
      " 'Apr-17' 'May-17' 'Jun-17' 'Jul-17' 'Aug-17' 'Sep-17' 'Oct-17' 'Nov-17'\n",
      " 'Dec-17' 'Jan-18' 'Feb-18' 'Mar-18' 'Apr-18' 'May-18' 'Jun-18' 'Jul-18'\n",
      " 'Aug-18' 'Sep-18' 'Oct-18' 'Nov-18' 'Dec-18' 'Jan-19' 'Feb-19' 'Mar-19'\n",
      " 'Apr-19' 'May-19' 'Oct-13' 'Nov-13' 'Dec-13' 'Jan-14' 'Feb-14' 'Mar-14'\n",
      " 'Apr-14' 'May-14' 'Oct-14' 'Nov-14' 'Jun-19' 'Jul-19' 'Aug-19' 'Sep-19'\n",
      " 'Oct-19' 'Nov-19' 'Dec-19' 'Jan-20' 'Feb-20' 'Mar-20' 'Apr-20' 'Jun-20'\n",
      " 'Jul-20' 'Aug-20' 'Sep-20' 'Oct-20' 'Nov-20' 'Dec-20' 'Jan-21' 'Feb-21'\n",
      " 'Mar-21' 'Apr-21' 'May-21' 'Jun-21' 'Jul-21' 'Aug-21' 'Sep-21' 'Oct-21'\n",
      " 'Nov-21' 'Dec-21' 'Jan-22' 'Feb-22' 'Mar-22' 'Apr-22' 'May-22' 'Jun-22'\n",
      " 'Jul-22' 'Aug-22' 'Sep-22' 'Oct-22' 'Nov-22' 'Dec-22' 'Jan-23' 'Feb-23'\n",
      " 'Mar-23' 'Apr-23' 'May-23' 'Jun-23' 'Jul-23' 'Aug-23' 'Sep-23' 'Oct-23'\n",
      " 'Nov-23' 'Dec-23' 'Jan-24' 'Feb-24' 'Apr-24' 'May-24' 'Jun-24' 'Jul-24'\n",
      " 'Aug-24' 'Sep-24' 'Oct-24' 'Nov-24' 'Dec-24' 'Jan-25' 'Feb-25' 'Mar-25'\n",
      " 'Apr-25' 'May-25' 'May-20' 'Mar-24']\n",
      "Outcome Type ['Transfer' 'Adoption']\n",
      "Outcome Subtype ['Partner' 'Unknown' 'Foster' 'Offsite' 'SCRP' 'Snr' 'Barn' 'Out State'\n",
      " 'Emer' 'In State']\n",
      "Animal Type ['Bird' 'Dog' 'Cat' 'Livestock']\n",
      "Sex upon Outcome ['Unknown' 'Spayed Female' 'Intact Male' 'Intact Female' 'Neutered Male']\n",
      "Age upon Outcome ['2 weeks' '2 months' '4 weeks' '5 months' '6 months' '1 year' '8 months'\n",
      " '3 weeks' '6 years' '1 weeks' '3 years' '2 years' '1 month' '4 months'\n",
      " '10 months' '5 years' '8 years' '3 months' '9 years' '7 years' '4 years'\n",
      " '4 days' '1 week' '11 months' '7 months' '12 years' '9 months' '10 years'\n",
      " '3 days' '2 days' '11 years' '13 years' '1 day' '20 years' '25 years'\n",
      " '5 weeks' '17 years' '5 days' '14 years' '18 years' '15 years' '16 years'\n",
      " '6 days' '19 years' '30 years']\n",
      "Breed ['Duck' 'Black Mouth Cur Mix' 'Catbird Mix' ...\n",
      " 'Wirehaired Pointing Griffon' 'Labrador Retriever/Affenpinscher'\n",
      " 'Pekingese/Lhasa Apso']\n",
      "Color: ['Yellow/Black' 'Brown/Black' 'Brown' 'Black/White' 'Black' 'White'\n",
      " 'Brown/White' 'Tan' 'Blue Tabby' 'Cream' 'Gold' 'Red' 'Fawn/White'\n",
      " 'White/Gray' 'Torbie' 'Sable' 'Yellow' 'White/Black' 'White/Chocolate'\n",
      " 'Cream/Black' 'White/Brown' 'Chocolate/White' 'White/Red Tick'\n",
      " 'White/Brown Brindle' 'Buff/Gray' 'Black/Tan' 'Blue Merle/Black'\n",
      " 'Chocolate' 'White/Tan' 'Tan/White' 'Pink' 'Tricolor' 'Red/White'\n",
      " 'Calico' 'Brown Tabby/White' 'Brown Brindle' 'Blue Tick/Black'\n",
      " 'Blue/White' 'Black/Brown' 'Green/Blue' 'Brown Tabby' 'Orange Tabby'\n",
      " 'Tortie' 'Blue Merle' 'Orange/Tan' 'White/White' 'Orange Tabby/White'\n",
      " 'Cream Tabby' 'Cream Tabby/White' 'Lilac Point' 'Lynx Point' 'Black/Buff'\n",
      " 'White/Cream Tabby' 'Seal Point' 'Blue Merle/White' 'Brown Brindle/White'\n",
      " 'Sable/Buff' 'Chocolate/Tan' 'Brown/Brown' 'Tortie Point'\n",
      " 'Orange/Orange Tabby' 'Black Tabby/White' 'Blue Tabby/White' 'Blue'\n",
      " 'Buff' 'White/Red' 'Fawn/Black' 'Blue/Tan' 'Red/Tan' 'Black Brindle'\n",
      " 'White/Blue Tick' 'White/Blue' 'Red/Black' 'Tricolor/Brown Merle'\n",
      " 'Seal Point/Brown' 'Tan/Black' 'Flame Point' 'Brown Merle'\n",
      " 'White/Blue Merle' 'Brown Merle/Tan' 'Gray/Silver' 'White/Tricolor'\n",
      " 'Black/Brown Brindle' 'Brown/Tan' 'Buff/White' 'Black/Red' 'Yellow/White'\n",
      " 'Fawn' 'Gray' 'Sable/White' 'Cream/White' 'Tortie Point/White'\n",
      " 'Tricolor/White' 'Blue/Tricolor' 'Blue/Black' 'Gray Tabby/White'\n",
      " 'White/Brown Tabby' 'Black Smoke/White' 'Brown Brindle/Black'\n",
      " 'Gray/Brown' 'White/Tortie' 'Gold/Cream' 'Orange' 'Red Tick/White'\n",
      " 'Tortie/White' 'White/Orange Tabby' 'Gray Tabby' 'Black Tabby'\n",
      " 'Silver/Brown' 'Black/Tricolor' 'Torbie/Gray' 'Gold/White' 'Silver/Black'\n",
      " 'Black/Black Brindle' 'White/Orange' 'Blue Tiger/White' 'Gray/White'\n",
      " 'Black Brindle/White' 'Black/Cream' 'Silver/Red' 'Black/Black'\n",
      " 'Liver/White' 'Brown/Red Tick' 'Red Merle' 'White/Yellow'\n",
      " 'Brown Merle/White' 'Black/Blue Tick' 'Orange Tabby/Cream' 'Torbie/White'\n",
      " 'Black/Gray' 'Agouti' 'Lynx Point/White' 'Tricolor/Brown' 'Gray/Gray'\n",
      " 'Gray Tabby/Black' 'Brown/Tricolor' 'Brown Tiger' 'Gray/Blue'\n",
      " 'Silver Tabby/White' 'Tan/Tan' 'Red/Cream' 'Silver Tabby' 'Calico/White'\n",
      " 'Brown Tabby/Black' 'White/Black Tabby' 'Brown/Yellow' 'Blue Point/White'\n",
      " 'White/Cream' 'Orange/White' 'Blue Point' 'Liver/Cream' 'Silver'\n",
      " 'Tan/Cream' 'Red Merle/White' 'White/Buff' 'Black/Blue Merle'\n",
      " 'Calico Point/White' 'White/Blue Tabby' 'Black Smoke' 'Buff/Tan'\n",
      " 'Blue Merle/Tan' 'Liver/Brown Brindle' 'Gray/Tan' 'Chocolate/Black Smoke'\n",
      " 'Blue Merle/Cream' 'Black/Black Smoke' 'Tan/Brown' 'Gold/Buff' 'Apricot'\n",
      " 'Red/Buff' 'Brown Tabby/Orange' 'Calico Point' 'White/Red Merle'\n",
      " 'Black/Silver' 'Blue Merle/Brown' 'Blue Cream' 'Buff/Black' 'Gray/Black'\n",
      " 'Sable/Tan' 'Yellow/Tan' 'Red Tick/Brown Merle' 'Cream/Tan'\n",
      " 'Red Tick/Tan' 'Green' 'Red Tick' 'Apricot/White' 'Tan/Silver'\n",
      " 'Silver/Tan' 'Brown Brindle/Blue Cream' 'Calico/Brown Tabby'\n",
      " 'Red Merle/Black' 'White/Brown Merle' 'Blue Tick/Brown' 'Blue Tick/White'\n",
      " 'Black/Chocolate' 'Brown Tabby/Tortie' 'Seal Point/White'\n",
      " 'Tricolor/Chocolate' 'Chocolate Point' 'Lynx Point/Brown Tabby'\n",
      " 'Gray/Cream' 'Blue Cream/Blue Tabby' 'Lynx Point/Gray Tabby'\n",
      " 'Blue Tabby/Blue Cream' 'Sable/Black' 'Tan/Buff' 'White/Gray Tabby'\n",
      " 'Red/Tricolor' 'Tortie/Blue Cream' 'Tan/Gray' 'Blue Tick'\n",
      " 'White/Yellow Brindle' 'Sable/Red Merle' 'White/Black Brindle' 'Tan/Red'\n",
      " 'White/Apricot' 'Blue/Brown Brindle' 'Blue Tick/Tan' 'Blue Cream/Buff'\n",
      " 'Calico/Blue Cream' 'White/Brown Tiger' 'Yellow Brindle/White'\n",
      " 'Cream/Red' 'Chocolate/Red' 'Tricolor/Blue Merle' 'White/Silver'\n",
      " 'Brown Merle/Black' 'Chocolate Point/White' 'Blue Smoke/Brown'\n",
      " 'White/Blue Cream' 'Ruddy/Cream' 'Chocolate/Brown' 'Blue Merle/Tricolor'\n",
      " 'Brown/Red' 'Tricolor/Tan' 'Red/Brown' 'Fawn/Blue' 'Black Smoke/Black'\n",
      " 'Tan/Yellow' 'Sable/Brown' 'Black/Brown Merle' 'White/Pink' 'Brown/Gray'\n",
      " 'Yellow Brindle' 'Chocolate/Tricolor' 'Brown/Red Merle' 'Red Tick/Orange'\n",
      " 'Blue Tick/Brown Brindle' 'Gold/Black' 'Black/Blue' 'Blue Tick/Red Tick'\n",
      " 'Calico/Blue Tabby' 'Gold/Yellow' 'Fawn/Brown' 'Tan/Apricot'\n",
      " 'Red/Red Merle' 'Blue Merle/Red' 'Liver Tick/White' 'Liver/Tan'\n",
      " 'Chocolate/Black' 'Tortie/Orange' 'Calico/Orange Tabby'\n",
      " 'Brown Tabby/Gray Tabby' 'Gray/Yellow' 'Cream/Gray' 'Red/Red Tick'\n",
      " 'Red Tick/Black' 'Tan/Tricolor' 'Black Brindle/Brown' 'Tortie/Black'\n",
      " 'Red Tick/Blue Tick' 'Green/Yellow' 'Silver Lynx Point' 'Gold/Tan'\n",
      " 'Brown/Chocolate' 'Agouti/Brown Tabby' 'Green/White' 'Buff/Brown'\n",
      " 'White/Liver' 'Brown/Silver' 'Black/Orange' 'Blue/Gray' 'Buff/Yellow'\n",
      " 'Silver Tabby/Black' 'Red/Silver' 'Gray/Gold' 'Tricolor/Black'\n",
      " 'Brown Brindle/Red Tick' 'Blue/Cream' 'Chocolate/Brown Merle'\n",
      " 'White/Lynx Point' 'Red Tick/Red' 'Cream/Orange' 'Brown Tabby/Brown'\n",
      " 'Chocolate/Brown Brindle' 'White/Black Smoke' 'Cream/Red Tick'\n",
      " 'Red Tick/Brown' 'Chocolate/Cream' 'Chocolate/Red Tick'\n",
      " 'White/Flame Point' 'Blue Tabby/Cream' 'Black Smoke/Brown Tabby'\n",
      " 'Brown/Cream' 'Calico/Black' 'Blue Merle/Red Merle'\n",
      " 'Brown Tabby/Black Brindle' 'Blue Tiger' 'Fawn/Brown Brindle' 'Red/Blue'\n",
      " 'Torbie/Blue Cream' 'Blue Tick/Red' 'White/Seal Point'\n",
      " 'Black/Yellow Brindle' 'Fawn/Tan' 'Blue Cream/Blue Tiger'\n",
      " 'Blue Merle/Blue Merle' 'Yellow Brindle/Blue' 'Black/Green' 'Red/Green'\n",
      " 'Brown Brindle/Blue' 'Tricolor/Blue' 'Blue/Calico' 'Brown Brindle/Brown'\n",
      " 'Blue/Brown' 'Silver/White' 'Brown Brindle/Brown Brindle' 'Liver Tick'\n",
      " 'Blue Cream/Tortie' 'Sable/Cream' 'Liver' 'Brown Tiger/White'\n",
      " 'Blue Merle/Brown Brindle' 'Sable/Red' 'Calico/Tricolor' 'Chocolate/Gold'\n",
      " 'Silver/Chocolate' 'Blue/Yellow Brindle' 'Calico/Brown' 'Gray/Red'\n",
      " 'Brown/Buff' 'Gray/Buff' 'Tan/Blue' 'Brown Tabby/Gray' 'Fawn/Gray'\n",
      " 'Torbie/Brown' 'Fawn/Tricolor' 'Fawn/Chocolate' 'Blue Smoke/White'\n",
      " 'Red/Gold' 'Black/Tortie' 'Buff/Red' 'White/Chocolate Point' 'Blue Smoke'\n",
      " 'Red/Red' 'Blue Tabby/Tan' 'Red/Gray' 'Brown Brindle/Blue Tick'\n",
      " 'Black Tiger/White' 'Tricolor/Calico' 'Blue/Tortie' 'Orange Tabby/Black'\n",
      " 'Orange Tabby/Tortie Point' 'Tortie/Calico' 'Brown Brindle/Tan'\n",
      " 'Black/Silver Tabby' 'Brown/Black Tabby' 'Tortie/Brown' 'Blue/Orange'\n",
      " 'Tan/Red Tick' 'Brown Merle/Blue Merle' 'White/Calico'\n",
      " 'Brown Merle/Brown' 'Black/Black Tabby' 'Gray/Tricolor'\n",
      " 'Tortie Point/Lynx Point' 'Black/Yellow' 'Silver/Cream'\n",
      " 'Tortie/Black Smoke' 'Blue Cream/White' 'Blue/Yellow' 'Sable/Gray'\n",
      " 'Cream/Brown' 'Apricot/Brown' 'Blue Tabby/Orange' 'Lilac Point/White'\n",
      " 'Green/Gray' 'Chocolate/Brown Tabby' 'Tortie/Blue' 'Gray/Tortie'\n",
      " 'Silver/Gray' 'Agouti/White' 'Brown Tabby/Blue'\n",
      " 'Brown Tabby/Orange Tabby' 'Flame Point/Cream' 'Torbie/Blue Tabby'\n",
      " 'Brown/Green' 'Chocolate/Yellow' 'Torbie/Brown Tabby' 'Black/Gold'\n",
      " 'Black/Brown Tabby' 'Flame Point/White' 'Yellow/Orange' 'Cream/Silver'\n",
      " 'Lynx Point/Tan' 'Orange Tabby/Brown' 'Brown Tabby/Brown Tabby'\n",
      " 'Orange Tabby/Orange' 'Orange Tabby/Orange Tabby' 'Blue/Blue' 'Gold/Gold'\n",
      " 'Black Smoke/Blue Tick' 'Cream/Seal Point' 'Gold/Brown' 'Calico/Calico'\n",
      " 'Red/Yellow' 'Tortie/Blue Tabby' 'Cream Tabby/Cream Tabby'\n",
      " 'Black/Gray Tabby' 'Silver Lynx Point/Gray' 'Lynx Point/Tortie Point'\n",
      " 'Blue/Silver' 'Seal Point/Gray' 'White/Calico Point' 'Brown Tabby/Cream'\n",
      " 'White/Liver Tick' 'Yellow/Cream' 'Liver/Chocolate' 'Brown/Brown Brindle'\n",
      " 'Brown/Brown Tabby' 'Yellow/Orange Tabby' 'Green/Black'\n",
      " 'Tricolor/Brown Brindle' 'Chocolate/Chocolate' 'White/Fawn'\n",
      " 'Blue Smoke/Gray' 'Blue/Green' 'White/Lilac Point' 'Cream/Yellow'\n",
      " 'Cream/Brown Merle' 'Red Merle/Brown Merle' 'Brown Merle/Brown Tabby'\n",
      " 'Torbie/Black' 'Black Tabby/Gray Tabby' 'Calico/Orange'\n",
      " 'Brown Tiger/Brown' 'White/Silver Tabby' 'Cream Tabby/Orange'\n",
      " 'Blue Tabby/Buff' 'Torbie/Silver Tabby' 'Lynx Point/Blue'\n",
      " 'Cream/Blue Point' 'Gray Tabby/Orange' 'Tortie/Tortie' 'Seal Point/Buff'\n",
      " 'Black Brindle/Black' 'Calico Point/Gray' 'Seal Point/Cream'\n",
      " 'Blue Point/Cream' 'White/Green' 'Tortie Point/Blue' 'Blue Tick/Tricolor'\n",
      " 'Brown Tabby/Agouti' 'Red Tick/Brown Brindle' 'Cream Tabby/Orange Tabby'\n",
      " 'White/Black Tiger' 'Gray Tabby/Gray' 'Silver Lynx Point/White'\n",
      " 'Gold/Gray' 'Brown/Black Brindle' 'Black Tiger' 'Tricolor/Cream'\n",
      " 'Gray/Green' 'Lilac Point/Black' 'Brown Tabby/Calico'\n",
      " 'Brown Brindle/Tricolor' 'Yellow/Green' 'Blue Merle/Gray'\n",
      " 'Gray/Blue Merle' 'Liver/Liver Tick' 'Black/Fawn' 'Brown Tabby/Silver'\n",
      " 'Brown Brindle/Liver Tick' 'Lilac Point/Gray' 'Green/Silver'\n",
      " 'Tricolor/Red' 'Brown Tabby/Lynx Point' 'Agouti/Cream' 'Tortie/Gray'\n",
      " 'Buff/Cream' 'Yellow/Brown' 'Yellow/Red' 'Lynx Point/Gray'\n",
      " 'Red/Brown Brindle' 'Green/Red' 'Cream/Tricolor'\n",
      " 'Black Brindle/Brown Brindle' 'Brown/Liver' 'Tan/Fawn' 'Yellow/Gray'\n",
      " 'Tricolor/Gray' 'Tan/Brown Brindle' 'Calico Point/Lynx Point'\n",
      " 'Black Brindle/Tan' 'Orange Tiger' 'White/Agouti' 'White/Tortie Point'\n",
      " 'Lynx Point/Cream' 'Cream/Blue' 'Brown Merle/Chocolate' 'Gray/Gray Tabby'\n",
      " 'Brown/Black Smoke' 'Fawn/Cream' 'Red Tick/Tricolor' 'White/Blue Tiger'\n",
      " 'Chocolate/Blue Tick' 'Tan/Chocolate Point' 'Black Smoke/Black Tabby'\n",
      " 'Tan/Red Merle' 'Brown/Fawn' 'Gray/Fawn' 'Blue Tabby/Tortie'\n",
      " 'Brown/Orange' 'Tricolor/Red Tick' 'Tortie Point/Seal Point'\n",
      " 'Tricolor/Blue Tick' 'Chocolate/Fawn' 'Cream Tiger/Brown Tabby'\n",
      " 'Blue Tabby/Brown' 'Brown/Gold' 'Silver/Silver Tabby'\n",
      " 'Chocolate/Seal Point' 'Chocolate Point/Cream' 'Tortie/Gold' 'Cream/Gold'\n",
      " 'Brown/Seal Point' 'Liver/Blue' 'Brown Brindle/Black Brindle'\n",
      " 'Brown Brindle/Gray' 'Brown Brindle/Brown Merle' 'White/Gray Tiger'\n",
      " 'Calico/Gray' 'Red Merle/Brown' 'Blue/Blue Merle' 'Blue/Gold'\n",
      " 'Tan/Blue Tick' 'Blue/Fawn' 'Yellow Brindle/Black'\n",
      " 'Blue Point/Lynx Point' 'Brown Tiger/Cream' 'Liver Tick/Brown'\n",
      " 'Orange/Tricolor' 'Brown Tabby/Tan' 'Buff/Red Tick' 'Tricolor/Fawn'\n",
      " 'Black Tabby/Black Smoke' 'Blue/Blue Tick' 'Cream/Brown Tabby'\n",
      " 'Cream/Cream' 'Lynx Point/Blue Point' 'White/Gold' 'Buff/Blue Merle'\n",
      " 'Orange Tabby/Tan' 'Chocolate/Gray' 'Black Tabby/Brown'\n",
      " 'Brown Brindle/Chocolate' 'Gray Tabby/Brown' 'Blue Tabby/Black'\n",
      " 'Black Tabby/Gray' 'Yellow/Blue' 'Gray Tabby/Tan' 'Silver/Gray Tabby'\n",
      " 'Tortie/Blue Merle' 'Seal Point/Silver' 'Red Merle/Red Tick'\n",
      " 'Black Brindle/Yellow' 'Blue Tabby/Brown Tabby' 'Torbie/Orange'\n",
      " 'Blue Smoke/Tan' 'Fawn/Yellow' 'Cream/Green' 'Blue Tiger/Black'\n",
      " 'Brown Tiger/Black' 'Brown Merle/Brown Merle' 'Blue/Black Brindle'\n",
      " 'Blue Merle/Brown Merle' 'Brown/Brown Tiger' 'Brown Tabby/Gold' 'Ruddy'\n",
      " 'Black Brindle/Blue Tick' 'Tricolor/Tortie' 'Yellow/Yellow'\n",
      " 'Brown Tabby/Red' 'Agouti/Gold' 'Tricolor/Orange' 'Brown Tabby/Liver'\n",
      " 'Cream/Chocolate' 'Gray/Calico' 'Black/Calico']\n"
     ]
    }
   ],
   "source": [
    "print(\"Animal ID:\", data['Animal ID'].unique()) \n",
    "print(\"Date of Birth\", data['Date of Birth'].unique()) \n",
    "print(\"Name\", data['Name'].unique()) \n",
    "print(\"DateTime\", data['DateTime'].unique()) \n",
    "print(\"MonthYear\", data['MonthYear'].unique()) \n",
    "print(\"Outcome Type\", data['Outcome Type'].unique())\n",
    "print(\"Outcome Subtype\", data['Outcome Subtype'].unique())\n",
    "print(\"Animal Type\", data['Animal Type'].unique()) \n",
    "print(\"Sex upon Outcome\", data['Sex upon Outcome'].unique())\n",
    "print(\"Age upon Outcome\", data['Age upon Outcome'].unique())\n",
    "print(\"Breed\", data['Breed'].unique()) \n",
    "print(\"Color:\", data['Color'].unique()) "
   ]
  },
  {
   "cell_type": "markdown",
   "id": "9be8789a-ea3a-481a-8a4d-abf8306cd96d",
   "metadata": {},
   "source": [
    "Now we have clean data with no null values in the columns. Using the unique command, we can see all the unique values associated with each column. Some of the columns have a lot of different categories that it could be assigned to. "
   ]
  },
  {
   "cell_type": "markdown",
   "id": "f7727d92-b3f1-4fe6-9f8a-ad51c9dba722",
   "metadata": {},
   "source": [
    "### Visualize the dataset through different univariate analysis and comment on your observations (2)"
   ]
  },
  {
   "cell_type": "code",
   "execution_count": 16,
   "id": "87fd080e-c103-41d3-b19d-bf054ed20839",
   "metadata": {},
   "outputs": [
    {
     "data": {
      "image/png": "[encoded data removed]",
      "text/plain": [
       "<Figure size 640x480 with 1 Axes>"
      ]
     },
     "metadata": {},
     "output_type": "display_data"
    }
   ],
   "source": [
    "# Outcome Type\n",
    "\n",
    "plt.figure()\n",
    "outcome_counts = data['Outcome Type'].value_counts().sort_values(ascending=False)\n",
    "sns.barplot(x=outcome_counts.index, y=outcome_counts.values) \n",
    "plt.title('Distribution of Outcome Type')\n",
    "plt.ylabel('Count')\n",
    "plt.show()"
   ]
  },
  {
   "cell_type": "code",
   "execution_count": 17,
   "id": "7393a920-4f95-44ac-a6a4-fb0ecb5a2f03",
   "metadata": {},
   "outputs": [
    {
     "data": {
      "image/png": "[encoded data removed]",
      "text/plain": [
       "<Figure size 640x480 with 1 Axes>"
      ]
     },
     "metadata": {},
     "output_type": "display_data"
    }
   ],
   "source": [
    "# Animal Type\n",
    "\n",
    "plt.figure()\n",
    "outcome_counts = data['Animal Type'].value_counts().sort_values(ascending=False)\n",
    "sns.barplot(x=outcome_counts.index, y=outcome_counts.values) \n",
    "plt.title('Distribution of Animal Type')\n",
    "plt.ylabel('Count')\n",
    "plt.show()"
   ]
  },
  {
   "cell_type": "code",
   "execution_count": 18,
   "id": "0037e344-7ac5-4554-b92f-444d829f6434",
   "metadata": {},
   "outputs": [
    {
     "data": {
      "image/png": "[encoded data removed]",
      "text/plain": [
       "<Figure size 640x480 with 1 Axes>"
      ]
     },
     "metadata": {},
     "output_type": "display_data"
    }
   ],
   "source": [
    "# Sex Upon Outcome\n",
    "\n",
    "plt.figure()\n",
    "outcome_counts = data['Sex upon Outcome'].value_counts()\n",
    "plt.pie(outcome_counts, labels=outcome_counts.index, startangle=90) \n",
    "plt.title('Distribution of Sex upon Outcome')\n",
    "plt.show()"
   ]
  },
  {
   "cell_type": "markdown",
   "id": "2938954f-fd63-44ce-aeaf-4fb7dccc223b",
   "metadata": {},
   "source": [
    "### Drop duplicate rows and irrelevant columns. (1 point)"
   ]
  },
  {
   "cell_type": "markdown",
   "id": "f1c1468f-ea2f-43ea-ada5-0bddfbae506f",
   "metadata": {},
   "source": [
    "First, we dropped irrelevant columns. \n",
    "- Animal ID was an irrelevant column that would not help our analysis because we already have index values associated with each of the animals.\n",
    "- Date of Birth and DateTime were redundant columns, instead we just kept MonthYear and Age at Outcome. MonthYear will later be made into a categorical variable, and Age at Outcome a numerical value.\n",
    "- Outcome Subtype was dropped because it just specified the Outcome Type variable, so it could have caused overfitting later.  \n",
    "- I also dropped Name, Breed, and Color because those three were high cardinality variables, meaning that there were a lot of different options for the categories the variable could be assigned to. Since we plan on doing one-hot encoding later, this would cause a lot of columns to be created, which might delay analysis later. \n",
    "\n",
    "There were also 58807 duplicated rows. This was also dropped with the drop_duplicates method and then confirmed. "
   ]
  },
  {
   "cell_type": "code",
   "execution_count": 19,
   "id": "90d5a98d-ec4d-4092-b530-af836de5886a",
   "metadata": {},
   "outputs": [],
   "source": [
    "columns_d = ['Animal ID', 'DateTime', 'Date of Birth', 'Outcome Subtype', 'Name', 'Color', 'Breed']\n",
    "\n",
    "data_clean = data.drop(columns=columns_d, inplace=True)"
   ]
  },
  {
   "cell_type": "code",
   "execution_count": 20,
   "id": "9bc0b9a6-0e36-485e-94de-5c45bd944afa",
   "metadata": {},
   "outputs": [
    {
     "data": {
      "text/plain": [
       "103986"
      ]
     },
     "execution_count": 20,
     "metadata": {},
     "output_type": "execute_result"
    }
   ],
   "source": [
    "data.duplicated().sum()"
   ]
  },
  {
   "cell_type": "code",
   "execution_count": 21,
   "id": "60aae690-aed1-40a9-9c5e-b6b47af2296c",
   "metadata": {},
   "outputs": [],
   "source": [
    "data.drop_duplicates(inplace=True, ignore_index=True)"
   ]
  },
  {
   "cell_type": "code",
   "execution_count": 22,
   "id": "21f94b87-aaa3-4786-90a7-b560f3caee41",
   "metadata": {},
   "outputs": [
    {
     "data": {
      "text/plain": [
       "0"
      ]
     },
     "execution_count": 22,
     "metadata": {},
     "output_type": "execute_result"
    }
   ],
   "source": [
    "data.duplicated().sum()"
   ]
  },
  {
   "cell_type": "code",
   "execution_count": 23,
   "id": "587cbef9-f649-466e-acd3-6e53e16ff6b9",
   "metadata": {},
   "outputs": [
    {
     "data": {
      "text/html": [
       "<div>\n",
       "<style scoped>\n",
       "    .dataframe tbody tr th:only-of-type {\n",
       "        vertical-align: middle;\n",
       "    }\n",
       "\n",
       "    .dataframe tbody tr th {\n",
       "        vertical-align: top;\n",
       "    }\n",
       "\n",
       "    .dataframe thead th {\n",
       "        text-align: right;\n",
       "    }\n",
       "</style>\n",
       "<table border=\"1\" class=\"dataframe\">\n",
       "  <thead>\n",
       "    <tr style=\"text-align: right;\">\n",
       "      <th></th>\n",
       "      <th>MonthYear</th>\n",
       "      <th>Outcome Type</th>\n",
       "      <th>Animal Type</th>\n",
       "      <th>Sex upon Outcome</th>\n",
       "      <th>Age upon Outcome</th>\n",
       "    </tr>\n",
       "  </thead>\n",
       "  <tbody>\n",
       "    <tr>\n",
       "      <th>0</th>\n",
       "      <td>Jun-14</td>\n",
       "      <td>Transfer</td>\n",
       "      <td>Bird</td>\n",
       "      <td>Unknown</td>\n",
       "      <td>2 weeks</td>\n",
       "    </tr>\n",
       "    <tr>\n",
       "      <th>1</th>\n",
       "      <td>Jul-14</td>\n",
       "      <td>Adoption</td>\n",
       "      <td>Dog</td>\n",
       "      <td>Spayed Female</td>\n",
       "      <td>2 months</td>\n",
       "    </tr>\n",
       "    <tr>\n",
       "      <th>2</th>\n",
       "      <td>Jul-14</td>\n",
       "      <td>Transfer</td>\n",
       "      <td>Bird</td>\n",
       "      <td>Unknown</td>\n",
       "      <td>4 weeks</td>\n",
       "    </tr>\n",
       "    <tr>\n",
       "      <th>3</th>\n",
       "      <td>Jul-14</td>\n",
       "      <td>Transfer</td>\n",
       "      <td>Bird</td>\n",
       "      <td>Unknown</td>\n",
       "      <td>2 weeks</td>\n",
       "    </tr>\n",
       "    <tr>\n",
       "      <th>4</th>\n",
       "      <td>Aug-14</td>\n",
       "      <td>Transfer</td>\n",
       "      <td>Bird</td>\n",
       "      <td>Intact Male</td>\n",
       "      <td>5 months</td>\n",
       "    </tr>\n",
       "  </tbody>\n",
       "</table>\n",
       "</div>"
      ],
      "text/plain": [
       "  MonthYear Outcome Type Animal Type Sex upon Outcome Age upon Outcome\n",
       "0    Jun-14     Transfer        Bird          Unknown          2 weeks\n",
       "1    Jul-14     Adoption         Dog    Spayed Female         2 months\n",
       "2    Jul-14     Transfer        Bird          Unknown          4 weeks\n",
       "3    Jul-14     Transfer        Bird          Unknown          2 weeks\n",
       "4    Aug-14     Transfer        Bird      Intact Male         5 months"
      ]
     },
     "execution_count": 23,
     "metadata": {},
     "output_type": "execute_result"
    }
   ],
   "source": [
    "data.head()"
   ]
  },
  {
   "cell_type": "markdown",
   "id": "4907521b-ea3a-4abe-b0c9-e62437854fe2",
   "metadata": {},
   "source": [
    "### Convert all data to numeric and/or categorical data types. Hint: Make the Age at Outcome column a float by converting all values to one unit for example days. (1 point)"
   ]
  },
  {
   "cell_type": "markdown",
   "id": "46f5b5ff-d275-4dc8-bb53-ae20a7e46ba5",
   "metadata": {},
   "source": [
    "Data Type Conversion\n",
    "- Will convert age (currently a string) to a float that represents the total days.\n",
    "- All other columns are already categorical"
   ]
  },
  {
   "cell_type": "code",
   "execution_count": 24,
   "id": "113ac239-d1ad-49ca-b1d3-b6ff47d2a2c7",
   "metadata": {},
   "outputs": [],
   "source": [
    "# ChatGPT helped me write this function \n",
    "def age_to_days(age_str):\n",
    "    age_str = age_str.lower().strip()\n",
    "    try:\n",
    "        value, unit = age_str.split(' ', 1)\n",
    "        value = float(value)\n",
    "    except ValueError:\n",
    "        return np.nan\n",
    "\n",
    "    if 'day' in unit:\n",
    "        return value\n",
    "    elif 'week' in unit:\n",
    "        return value * 7\n",
    "    elif 'month' in unit:\n",
    "        return value * 30  \n",
    "    elif 'year' in unit:\n",
    "        return value * 365 \n",
    "    else:\n",
    "        return np.nan\n",
    "\n",
    "data['Age in Days'] = data['Age upon Outcome'].apply(age_to_days)\n",
    "data.drop(columns=['Age upon Outcome'], inplace=True)"
   ]
  },
  {
   "cell_type": "code",
   "execution_count": 25,
   "id": "767b8b41-6194-40d2-a022-cce65a456747",
   "metadata": {},
   "outputs": [
    {
     "data": {
      "text/html": [
       "<div>\n",
       "<style scoped>\n",
       "    .dataframe tbody tr th:only-of-type {\n",
       "        vertical-align: middle;\n",
       "    }\n",
       "\n",
       "    .dataframe tbody tr th {\n",
       "        vertical-align: top;\n",
       "    }\n",
       "\n",
       "    .dataframe thead th {\n",
       "        text-align: right;\n",
       "    }\n",
       "</style>\n",
       "<table border=\"1\" class=\"dataframe\">\n",
       "  <thead>\n",
       "    <tr style=\"text-align: right;\">\n",
       "      <th></th>\n",
       "      <th>MonthYear</th>\n",
       "      <th>Outcome Type</th>\n",
       "      <th>Animal Type</th>\n",
       "      <th>Sex upon Outcome</th>\n",
       "      <th>Age in Days</th>\n",
       "    </tr>\n",
       "  </thead>\n",
       "  <tbody>\n",
       "    <tr>\n",
       "      <th>0</th>\n",
       "      <td>Jun-14</td>\n",
       "      <td>Transfer</td>\n",
       "      <td>Bird</td>\n",
       "      <td>Unknown</td>\n",
       "      <td>14.0</td>\n",
       "    </tr>\n",
       "    <tr>\n",
       "      <th>1</th>\n",
       "      <td>Jul-14</td>\n",
       "      <td>Adoption</td>\n",
       "      <td>Dog</td>\n",
       "      <td>Spayed Female</td>\n",
       "      <td>60.0</td>\n",
       "    </tr>\n",
       "    <tr>\n",
       "      <th>2</th>\n",
       "      <td>Jul-14</td>\n",
       "      <td>Transfer</td>\n",
       "      <td>Bird</td>\n",
       "      <td>Unknown</td>\n",
       "      <td>28.0</td>\n",
       "    </tr>\n",
       "    <tr>\n",
       "      <th>3</th>\n",
       "      <td>Jul-14</td>\n",
       "      <td>Transfer</td>\n",
       "      <td>Bird</td>\n",
       "      <td>Unknown</td>\n",
       "      <td>14.0</td>\n",
       "    </tr>\n",
       "    <tr>\n",
       "      <th>4</th>\n",
       "      <td>Aug-14</td>\n",
       "      <td>Transfer</td>\n",
       "      <td>Bird</td>\n",
       "      <td>Intact Male</td>\n",
       "      <td>150.0</td>\n",
       "    </tr>\n",
       "  </tbody>\n",
       "</table>\n",
       "</div>"
      ],
      "text/plain": [
       "  MonthYear Outcome Type Animal Type Sex upon Outcome  Age in Days\n",
       "0    Jun-14     Transfer        Bird          Unknown         14.0\n",
       "1    Jul-14     Adoption         Dog    Spayed Female         60.0\n",
       "2    Jul-14     Transfer        Bird          Unknown         28.0\n",
       "3    Jul-14     Transfer        Bird          Unknown         14.0\n",
       "4    Aug-14     Transfer        Bird      Intact Male        150.0"
      ]
     },
     "execution_count": 25,
     "metadata": {},
     "output_type": "execute_result"
    }
   ],
   "source": [
    "data.head()"
   ]
  },
  {
   "cell_type": "code",
   "execution_count": 26,
   "id": "b6b2bdc5-fe0d-4849-9c5a-4d493792ca9c",
   "metadata": {},
   "outputs": [
    {
     "data": {
      "image/png": "[encoded data removed]",
      "text/plain": [
       "<Figure size 640x480 with 1 Axes>"
      ]
     },
     "metadata": {},
     "output_type": "display_data"
    }
   ],
   "source": [
    "plt.figure()\n",
    "sns.histplot(x=data['Age in Days'],  bins=10)\n",
    "\n",
    "plt.title('Distribution of Animal Age in Days)')\n",
    "plt.show()"
   ]
  },
  {
   "cell_type": "markdown",
   "id": "699c9f1b-ea94-43de-8bb3-a2ef1a08f04e",
   "metadata": {},
   "source": [
    "### Perform one-hot encoding on categorical variables (1 point)"
   ]
  },
  {
   "cell_type": "markdown",
   "id": "d586d35e-8765-4c18-973e-6518cf9f07e2",
   "metadata": {},
   "source": [
    "To prepare for model analysis later, the dataframe was one-hot encoded for all the categorical variables. This included Outcome Type, Animal Type, Sex upon Outcome, MonthYear, and Breed. Age in Days was already a numerical value. "
   ]
  },
  {
   "cell_type": "code",
   "execution_count": 27,
   "id": "cbb40d20-7020-4049-b584-3ca8137e4b9e",
   "metadata": {},
   "outputs": [
    {
     "name": "stdout",
     "output_type": "stream",
     "text": [
      "Shape after One Hot Encoding: (27139, 148)\n"
     ]
    },
    {
     "data": {
      "text/html": [
       "<div>\n",
       "<style scoped>\n",
       "    .dataframe tbody tr th:only-of-type {\n",
       "        vertical-align: middle;\n",
       "    }\n",
       "\n",
       "    .dataframe tbody tr th {\n",
       "        vertical-align: top;\n",
       "    }\n",
       "\n",
       "    .dataframe thead th {\n",
       "        text-align: right;\n",
       "    }\n",
       "</style>\n",
       "<table border=\"1\" class=\"dataframe\">\n",
       "  <thead>\n",
       "    <tr style=\"text-align: right;\">\n",
       "      <th></th>\n",
       "      <th>Age in Days</th>\n",
       "      <th>Outcome Type_Transfer</th>\n",
       "      <th>Animal Type_Cat</th>\n",
       "      <th>Animal Type_Dog</th>\n",
       "      <th>Animal Type_Livestock</th>\n",
       "      <th>Sex upon Outcome_Intact Male</th>\n",
       "      <th>Sex upon Outcome_Neutered Male</th>\n",
       "      <th>Sex upon Outcome_Spayed Female</th>\n",
       "      <th>Sex upon Outcome_Unknown</th>\n",
       "      <th>MonthYear_Apr-15</th>\n",
       "      <th>...</th>\n",
       "      <th>MonthYear_Sep-15</th>\n",
       "      <th>MonthYear_Sep-16</th>\n",
       "      <th>MonthYear_Sep-17</th>\n",
       "      <th>MonthYear_Sep-18</th>\n",
       "      <th>MonthYear_Sep-19</th>\n",
       "      <th>MonthYear_Sep-20</th>\n",
       "      <th>MonthYear_Sep-21</th>\n",
       "      <th>MonthYear_Sep-22</th>\n",
       "      <th>MonthYear_Sep-23</th>\n",
       "      <th>MonthYear_Sep-24</th>\n",
       "    </tr>\n",
       "  </thead>\n",
       "  <tbody>\n",
       "    <tr>\n",
       "      <th>0</th>\n",
       "      <td>14.0</td>\n",
       "      <td>True</td>\n",
       "      <td>False</td>\n",
       "      <td>False</td>\n",
       "      <td>False</td>\n",
       "      <td>False</td>\n",
       "      <td>False</td>\n",
       "      <td>False</td>\n",
       "      <td>True</td>\n",
       "      <td>False</td>\n",
       "      <td>...</td>\n",
       "      <td>False</td>\n",
       "      <td>False</td>\n",
       "      <td>False</td>\n",
       "      <td>False</td>\n",
       "      <td>False</td>\n",
       "      <td>False</td>\n",
       "      <td>False</td>\n",
       "      <td>False</td>\n",
       "      <td>False</td>\n",
       "      <td>False</td>\n",
       "    </tr>\n",
       "    <tr>\n",
       "      <th>1</th>\n",
       "      <td>60.0</td>\n",
       "      <td>False</td>\n",
       "      <td>False</td>\n",
       "      <td>True</td>\n",
       "      <td>False</td>\n",
       "      <td>False</td>\n",
       "      <td>False</td>\n",
       "      <td>True</td>\n",
       "      <td>False</td>\n",
       "      <td>False</td>\n",
       "      <td>...</td>\n",
       "      <td>False</td>\n",
       "      <td>False</td>\n",
       "      <td>False</td>\n",
       "      <td>False</td>\n",
       "      <td>False</td>\n",
       "      <td>False</td>\n",
       "      <td>False</td>\n",
       "      <td>False</td>\n",
       "      <td>False</td>\n",
       "      <td>False</td>\n",
       "    </tr>\n",
       "    <tr>\n",
       "      <th>2</th>\n",
       "      <td>28.0</td>\n",
       "      <td>True</td>\n",
       "      <td>False</td>\n",
       "      <td>False</td>\n",
       "      <td>False</td>\n",
       "      <td>False</td>\n",
       "      <td>False</td>\n",
       "      <td>False</td>\n",
       "      <td>True</td>\n",
       "      <td>False</td>\n",
       "      <td>...</td>\n",
       "      <td>False</td>\n",
       "      <td>False</td>\n",
       "      <td>False</td>\n",
       "      <td>False</td>\n",
       "      <td>False</td>\n",
       "      <td>False</td>\n",
       "      <td>False</td>\n",
       "      <td>False</td>\n",
       "      <td>False</td>\n",
       "      <td>False</td>\n",
       "    </tr>\n",
       "    <tr>\n",
       "      <th>3</th>\n",
       "      <td>14.0</td>\n",
       "      <td>True</td>\n",
       "      <td>False</td>\n",
       "      <td>False</td>\n",
       "      <td>False</td>\n",
       "      <td>False</td>\n",
       "      <td>False</td>\n",
       "      <td>False</td>\n",
       "      <td>True</td>\n",
       "      <td>False</td>\n",
       "      <td>...</td>\n",
       "      <td>False</td>\n",
       "      <td>False</td>\n",
       "      <td>False</td>\n",
       "      <td>False</td>\n",
       "      <td>False</td>\n",
       "      <td>False</td>\n",
       "      <td>False</td>\n",
       "      <td>False</td>\n",
       "      <td>False</td>\n",
       "      <td>False</td>\n",
       "    </tr>\n",
       "    <tr>\n",
       "      <th>4</th>\n",
       "      <td>150.0</td>\n",
       "      <td>True</td>\n",
       "      <td>False</td>\n",
       "      <td>False</td>\n",
       "      <td>False</td>\n",
       "      <td>True</td>\n",
       "      <td>False</td>\n",
       "      <td>False</td>\n",
       "      <td>False</td>\n",
       "      <td>False</td>\n",
       "      <td>...</td>\n",
       "      <td>False</td>\n",
       "      <td>False</td>\n",
       "      <td>False</td>\n",
       "      <td>False</td>\n",
       "      <td>False</td>\n",
       "      <td>False</td>\n",
       "      <td>False</td>\n",
       "      <td>False</td>\n",
       "      <td>False</td>\n",
       "      <td>False</td>\n",
       "    </tr>\n",
       "  </tbody>\n",
       "</table>\n",
       "<p>5 rows × 148 columns</p>\n",
       "</div>"
      ],
      "text/plain": [
       "   Age in Days  Outcome Type_Transfer  Animal Type_Cat  Animal Type_Dog  \\\n",
       "0         14.0                   True            False            False   \n",
       "1         60.0                  False            False             True   \n",
       "2         28.0                   True            False            False   \n",
       "3         14.0                   True            False            False   \n",
       "4        150.0                   True            False            False   \n",
       "\n",
       "   Animal Type_Livestock  Sex upon Outcome_Intact Male  \\\n",
       "0                  False                         False   \n",
       "1                  False                         False   \n",
       "2                  False                         False   \n",
       "3                  False                         False   \n",
       "4                  False                          True   \n",
       "\n",
       "   Sex upon Outcome_Neutered Male  Sex upon Outcome_Spayed Female  \\\n",
       "0                           False                           False   \n",
       "1                           False                            True   \n",
       "2                           False                           False   \n",
       "3                           False                           False   \n",
       "4                           False                           False   \n",
       "\n",
       "   Sex upon Outcome_Unknown  MonthYear_Apr-15  ...  MonthYear_Sep-15  \\\n",
       "0                      True             False  ...             False   \n",
       "1                     False             False  ...             False   \n",
       "2                      True             False  ...             False   \n",
       "3                      True             False  ...             False   \n",
       "4                     False             False  ...             False   \n",
       "\n",
       "   MonthYear_Sep-16  MonthYear_Sep-17  MonthYear_Sep-18  MonthYear_Sep-19  \\\n",
       "0             False             False             False             False   \n",
       "1             False             False             False             False   \n",
       "2             False             False             False             False   \n",
       "3             False             False             False             False   \n",
       "4             False             False             False             False   \n",
       "\n",
       "   MonthYear_Sep-20  MonthYear_Sep-21  MonthYear_Sep-22  MonthYear_Sep-23  \\\n",
       "0             False             False             False             False   \n",
       "1             False             False             False             False   \n",
       "2             False             False             False             False   \n",
       "3             False             False             False             False   \n",
       "4             False             False             False             False   \n",
       "\n",
       "   MonthYear_Sep-24  \n",
       "0             False  \n",
       "1             False  \n",
       "2             False  \n",
       "3             False  \n",
       "4             False  \n",
       "\n",
       "[5 rows x 148 columns]"
      ]
     },
     "execution_count": 27,
     "metadata": {},
     "output_type": "execute_result"
    }
   ],
   "source": [
    "cols_r = ['Outcome Type', 'Animal Type', 'Sex upon Outcome', 'MonthYear']\n",
    "data_ohe = pd.get_dummies(data, columns=cols_r, drop_first=True)\n",
    "\n",
    "print(f\"Shape after One Hot Encoding: {data_ohe.shape}\")\n",
    "data_ohe.head()"
   ]
  },
  {
   "cell_type": "code",
   "execution_count": 28,
   "id": "7053e46b-bcd6-4e8f-aa00-048ff76e3b6c",
   "metadata": {},
   "outputs": [
    {
     "name": "stdout",
     "output_type": "stream",
     "text": [
      "<class 'pandas.core.frame.DataFrame'>\n",
      "RangeIndex: 27139 entries, 0 to 27138\n",
      "Columns: 148 entries, Age in Days to MonthYear_Sep-24\n",
      "dtypes: bool(147), float64(1)\n",
      "memory usage: 4.0 MB\n"
     ]
    }
   ],
   "source": [
    "data_ohe.info()"
   ]
  },
  {
   "cell_type": "markdown",
   "id": "1248549a-740e-4bde-8526-281a55d5f224",
   "metadata": {},
   "source": [
    "# Part 2"
   ]
  },
  {
   "cell_type": "code",
   "execution_count": 29,
   "id": "171f79c1-73c3-4378-ab73-cc05444748a3",
   "metadata": {},
   "outputs": [],
   "source": [
    "import sklearn\n",
    "from sklearn.model_selection import train_test_split\n",
    "from sklearn.neighbors import KNeighborsClassifier\n",
    "from sklearn.metrics import accuracy_score, classification_report, confusion_matrix\n",
    "from sklearn.model_selection import GridSearchCV\n",
    "from sklearn.linear_model import LogisticRegression"
   ]
  },
  {
   "cell_type": "markdown",
   "id": "96052ad6-a7e2-4305-9dfb-18d341d30e91",
   "metadata": {},
   "source": [
    "### First, drop the Breed column, as it will complicate the analysis here in Part 3."
   ]
  },
  {
   "cell_type": "markdown",
   "id": "3d5228df-d378-46bd-a5a3-02888ea7b45c",
   "metadata": {},
   "source": [
    "Breed was dropped earlier!"
   ]
  },
  {
   "cell_type": "code",
   "execution_count": 30,
   "id": "10b26494-7e63-4f67-a3dd-d53c4a94c48c",
   "metadata": {},
   "outputs": [
    {
     "data": {
      "text/html": [
       "<div>\n",
       "<style scoped>\n",
       "    .dataframe tbody tr th:only-of-type {\n",
       "        vertical-align: middle;\n",
       "    }\n",
       "\n",
       "    .dataframe tbody tr th {\n",
       "        vertical-align: top;\n",
       "    }\n",
       "\n",
       "    .dataframe thead th {\n",
       "        text-align: right;\n",
       "    }\n",
       "</style>\n",
       "<table border=\"1\" class=\"dataframe\">\n",
       "  <thead>\n",
       "    <tr style=\"text-align: right;\">\n",
       "      <th></th>\n",
       "      <th>Age in Days</th>\n",
       "      <th>Outcome Type_Transfer</th>\n",
       "      <th>Animal Type_Cat</th>\n",
       "      <th>Animal Type_Dog</th>\n",
       "      <th>Animal Type_Livestock</th>\n",
       "      <th>Sex upon Outcome_Intact Male</th>\n",
       "      <th>Sex upon Outcome_Neutered Male</th>\n",
       "      <th>Sex upon Outcome_Spayed Female</th>\n",
       "      <th>Sex upon Outcome_Unknown</th>\n",
       "      <th>MonthYear_Apr-15</th>\n",
       "      <th>...</th>\n",
       "      <th>MonthYear_Sep-15</th>\n",
       "      <th>MonthYear_Sep-16</th>\n",
       "      <th>MonthYear_Sep-17</th>\n",
       "      <th>MonthYear_Sep-18</th>\n",
       "      <th>MonthYear_Sep-19</th>\n",
       "      <th>MonthYear_Sep-20</th>\n",
       "      <th>MonthYear_Sep-21</th>\n",
       "      <th>MonthYear_Sep-22</th>\n",
       "      <th>MonthYear_Sep-23</th>\n",
       "      <th>MonthYear_Sep-24</th>\n",
       "    </tr>\n",
       "  </thead>\n",
       "  <tbody>\n",
       "    <tr>\n",
       "      <th>0</th>\n",
       "      <td>14.0</td>\n",
       "      <td>True</td>\n",
       "      <td>False</td>\n",
       "      <td>False</td>\n",
       "      <td>False</td>\n",
       "      <td>False</td>\n",
       "      <td>False</td>\n",
       "      <td>False</td>\n",
       "      <td>True</td>\n",
       "      <td>False</td>\n",
       "      <td>...</td>\n",
       "      <td>False</td>\n",
       "      <td>False</td>\n",
       "      <td>False</td>\n",
       "      <td>False</td>\n",
       "      <td>False</td>\n",
       "      <td>False</td>\n",
       "      <td>False</td>\n",
       "      <td>False</td>\n",
       "      <td>False</td>\n",
       "      <td>False</td>\n",
       "    </tr>\n",
       "    <tr>\n",
       "      <th>1</th>\n",
       "      <td>60.0</td>\n",
       "      <td>False</td>\n",
       "      <td>False</td>\n",
       "      <td>True</td>\n",
       "      <td>False</td>\n",
       "      <td>False</td>\n",
       "      <td>False</td>\n",
       "      <td>True</td>\n",
       "      <td>False</td>\n",
       "      <td>False</td>\n",
       "      <td>...</td>\n",
       "      <td>False</td>\n",
       "      <td>False</td>\n",
       "      <td>False</td>\n",
       "      <td>False</td>\n",
       "      <td>False</td>\n",
       "      <td>False</td>\n",
       "      <td>False</td>\n",
       "      <td>False</td>\n",
       "      <td>False</td>\n",
       "      <td>False</td>\n",
       "    </tr>\n",
       "    <tr>\n",
       "      <th>2</th>\n",
       "      <td>28.0</td>\n",
       "      <td>True</td>\n",
       "      <td>False</td>\n",
       "      <td>False</td>\n",
       "      <td>False</td>\n",
       "      <td>False</td>\n",
       "      <td>False</td>\n",
       "      <td>False</td>\n",
       "      <td>True</td>\n",
       "      <td>False</td>\n",
       "      <td>...</td>\n",
       "      <td>False</td>\n",
       "      <td>False</td>\n",
       "      <td>False</td>\n",
       "      <td>False</td>\n",
       "      <td>False</td>\n",
       "      <td>False</td>\n",
       "      <td>False</td>\n",
       "      <td>False</td>\n",
       "      <td>False</td>\n",
       "      <td>False</td>\n",
       "    </tr>\n",
       "    <tr>\n",
       "      <th>3</th>\n",
       "      <td>14.0</td>\n",
       "      <td>True</td>\n",
       "      <td>False</td>\n",
       "      <td>False</td>\n",
       "      <td>False</td>\n",
       "      <td>False</td>\n",
       "      <td>False</td>\n",
       "      <td>False</td>\n",
       "      <td>True</td>\n",
       "      <td>False</td>\n",
       "      <td>...</td>\n",
       "      <td>False</td>\n",
       "      <td>False</td>\n",
       "      <td>False</td>\n",
       "      <td>False</td>\n",
       "      <td>False</td>\n",
       "      <td>False</td>\n",
       "      <td>False</td>\n",
       "      <td>False</td>\n",
       "      <td>False</td>\n",
       "      <td>False</td>\n",
       "    </tr>\n",
       "    <tr>\n",
       "      <th>4</th>\n",
       "      <td>150.0</td>\n",
       "      <td>True</td>\n",
       "      <td>False</td>\n",
       "      <td>False</td>\n",
       "      <td>False</td>\n",
       "      <td>True</td>\n",
       "      <td>False</td>\n",
       "      <td>False</td>\n",
       "      <td>False</td>\n",
       "      <td>False</td>\n",
       "      <td>...</td>\n",
       "      <td>False</td>\n",
       "      <td>False</td>\n",
       "      <td>False</td>\n",
       "      <td>False</td>\n",
       "      <td>False</td>\n",
       "      <td>False</td>\n",
       "      <td>False</td>\n",
       "      <td>False</td>\n",
       "      <td>False</td>\n",
       "      <td>False</td>\n",
       "    </tr>\n",
       "  </tbody>\n",
       "</table>\n",
       "<p>5 rows × 148 columns</p>\n",
       "</div>"
      ],
      "text/plain": [
       "   Age in Days  Outcome Type_Transfer  Animal Type_Cat  Animal Type_Dog  \\\n",
       "0         14.0                   True            False            False   \n",
       "1         60.0                  False            False             True   \n",
       "2         28.0                   True            False            False   \n",
       "3         14.0                   True            False            False   \n",
       "4        150.0                   True            False            False   \n",
       "\n",
       "   Animal Type_Livestock  Sex upon Outcome_Intact Male  \\\n",
       "0                  False                         False   \n",
       "1                  False                         False   \n",
       "2                  False                         False   \n",
       "3                  False                         False   \n",
       "4                  False                          True   \n",
       "\n",
       "   Sex upon Outcome_Neutered Male  Sex upon Outcome_Spayed Female  \\\n",
       "0                           False                           False   \n",
       "1                           False                            True   \n",
       "2                           False                           False   \n",
       "3                           False                           False   \n",
       "4                           False                           False   \n",
       "\n",
       "   Sex upon Outcome_Unknown  MonthYear_Apr-15  ...  MonthYear_Sep-15  \\\n",
       "0                      True             False  ...             False   \n",
       "1                     False             False  ...             False   \n",
       "2                      True             False  ...             False   \n",
       "3                      True             False  ...             False   \n",
       "4                     False             False  ...             False   \n",
       "\n",
       "   MonthYear_Sep-16  MonthYear_Sep-17  MonthYear_Sep-18  MonthYear_Sep-19  \\\n",
       "0             False             False             False             False   \n",
       "1             False             False             False             False   \n",
       "2             False             False             False             False   \n",
       "3             False             False             False             False   \n",
       "4             False             False             False             False   \n",
       "\n",
       "   MonthYear_Sep-20  MonthYear_Sep-21  MonthYear_Sep-22  MonthYear_Sep-23  \\\n",
       "0             False             False             False             False   \n",
       "1             False             False             False             False   \n",
       "2             False             False             False             False   \n",
       "3             False             False             False             False   \n",
       "4             False             False             False             False   \n",
       "\n",
       "   MonthYear_Sep-24  \n",
       "0             False  \n",
       "1             False  \n",
       "2             False  \n",
       "3             False  \n",
       "4             False  \n",
       "\n",
       "[5 rows x 148 columns]"
      ]
     },
     "execution_count": 30,
     "metadata": {},
     "output_type": "execute_result"
    }
   ],
   "source": [
    "data_ohe.head()"
   ]
  },
  {
   "cell_type": "code",
   "execution_count": 31,
   "id": "acb54d02-8ba5-413f-97ae-8b5f28c7e1b7",
   "metadata": {},
   "outputs": [
    {
     "data": {
      "text/plain": [
       "Index(['Age in Days', 'Outcome Type_Transfer', 'Animal Type_Cat',\n",
       "       'Animal Type_Dog', 'Animal Type_Livestock',\n",
       "       'Sex upon Outcome_Intact Male', 'Sex upon Outcome_Neutered Male',\n",
       "       'Sex upon Outcome_Spayed Female', 'Sex upon Outcome_Unknown',\n",
       "       'MonthYear_Apr-15',\n",
       "       ...\n",
       "       'MonthYear_Sep-15', 'MonthYear_Sep-16', 'MonthYear_Sep-17',\n",
       "       'MonthYear_Sep-18', 'MonthYear_Sep-19', 'MonthYear_Sep-20',\n",
       "       'MonthYear_Sep-21', 'MonthYear_Sep-22', 'MonthYear_Sep-23',\n",
       "       'MonthYear_Sep-24'],\n",
       "      dtype='object', length=148)"
      ]
     },
     "execution_count": 31,
     "metadata": {},
     "output_type": "execute_result"
    }
   ],
   "source": [
    "data_ohe.columns"
   ]
  },
  {
   "cell_type": "markdown",
   "id": "4e0fc1d7-0111-4199-9cb0-82a4838574ce",
   "metadata": {},
   "source": [
    "### Split the data into training and test datasets. Make sure your split is reproducible and that it maintains roughly the proportion of each class of dependent variable. (1 point)\n"
   ]
  },
  {
   "cell_type": "markdown",
   "id": "488fa348-5df7-4b06-b4ba-145e812786b2",
   "metadata": {},
   "source": [
    "I chose to set aside 30% of my data as testing data, and 70% as my training data. To ensure my split was reproducible, I set random_state=42. Additionally, the stratify=y ensured that the selected data maintains the proportion of the dependent variables. "
   ]
  },
  {
   "cell_type": "code",
   "execution_count": 32,
   "id": "b4f8edd5-1067-4ec9-81e8-4f8f1e9bb982",
   "metadata": {},
   "outputs": [
    {
     "name": "stdout",
     "output_type": "stream",
     "text": [
      "Shape of Training Data: 18997 samples\n",
      "Shape of Testing Data: 8142 samples\n"
     ]
    }
   ],
   "source": [
    "X = data_ohe.drop(columns=['Outcome Type_Transfer']) \n",
    "y = data_ohe['Outcome Type_Transfer']  \n",
    "\n",
    "X_train, X_test, y_train, y_test = train_test_split(X, y, test_size=0.3, random_state=42, stratify=y)\n",
    "\n",
    "print(f\"Shape of Training Data: {X_train.shape[0]} samples\")\n",
    "print(f\"Shape of Testing Data: {X_test.shape[0]} samples\")"
   ]
  },
  {
   "cell_type": "markdown",
   "id": "6ee89e01-7560-47d5-ba7e-24e55e7842df",
   "metadata": {},
   "source": [
    "### Perform classification to predict using OutcomeType (4 points)\n",
    "- K-Nearest Neighbor Classifier (1 point)\n",
    "- K-Nearest Neighbor Classifier using Grid search CV (2 points)\n",
    "- Linear classification (1 point)\n",
    "\n",
    "These models took a while to run because of the numbers of the samples in my X_train and X_test."
   ]
  },
  {
   "cell_type": "code",
   "execution_count": 33,
   "id": "057b3075-d58c-4607-ad92-ae9f75df9616",
   "metadata": {},
   "outputs": [
    {
     "name": "stdout",
     "output_type": "stream",
     "text": [
      "KNN Accuracy: 0.598\n"
     ]
    }
   ],
   "source": [
    "knn_model = KNeighborsClassifier(n_neighbors=5)\n",
    "knn_model.fit(X_train, y_train)\n",
    "y_pred = knn_model.predict(X_test)\n",
    "knn_report = classification_report(y_test, y_pred)\n",
    "knn_accuracy_score = accuracy_score(y_test, y_pred)\n",
    "\n",
    "print(f\"KNN Accuracy: {knn_accuracy_score:.3f}\")"
   ]
  },
  {
   "cell_type": "code",
   "execution_count": 34,
   "id": "0ba3f377-da5f-4890-bb8c-40bb6117918a",
   "metadata": {},
   "outputs": [
    {
     "name": "stdout",
     "output_type": "stream",
     "text": [
      "Best K value: 19\n",
      "Best KNN Accuracy: 0.69\n"
     ]
    }
   ],
   "source": [
    "param_grid = {\"n_neighbors\": np.arange(1, 20)}\n",
    "\n",
    "knn_gscv = GridSearchCV(KNeighborsClassifier(), param_grid, cv=5, scoring='accuracy')\n",
    "knn_gscv.fit(X_train, y_train)\n",
    "\n",
    "best_k = knn_gscv.best_params_['n_neighbors']\n",
    "print(f\"Best K value: {best_k}\")\n",
    "\n",
    "best_knn = KNeighborsClassifier(n_neighbors=best_k)\n",
    "best_knn.fit(X_train, y_train)\n",
    "\n",
    "y_pred_best_knn = best_knn.predict(X_test)\n",
    "knn_gscv_report = classification_report(y_test, y_pred_best_knn)\n",
    "accuracy_best_knn = accuracy_score(y_test, y_pred_best_knn)\n",
    "\n",
    "print(f\"Best KNN Accuracy: {accuracy_best_knn:.2f}\")"
   ]
  },
  {
   "cell_type": "code",
   "execution_count": 35,
   "id": "44a5f27d-360b-483c-a886-36c017115907",
   "metadata": {},
   "outputs": [
    {
     "name": "stdout",
     "output_type": "stream",
     "text": [
      "Logistic Regression Accuracy: 0.72\n"
     ]
    }
   ],
   "source": [
    "log_reg = LogisticRegression(max_iter=1000)\n",
    "log_reg.fit(X_train, y_train)\n",
    "\n",
    "y_pred_log = log_reg.predict(X_test)\n",
    "log_report = classification_report(y_test, y_pred_log)\n",
    "log_accuracy = accuracy_score(y_test, y_pred_log)\n",
    "\n",
    "print(f\"Logistic Regression Accuracy: {log_accuracy:.2f}\")"
   ]
  },
  {
   "cell_type": "code",
   "execution_count": 44,
   "id": "ae258b7d-040c-4d4f-985b-a9ecc00e25a5",
   "metadata": {},
   "outputs": [
    {
     "name": "stdout",
     "output_type": "stream",
     "text": [
      "Linear SVC Accuracy: 0.72\n"
     ]
    }
   ],
   "source": [
    "from sklearn.svm import LinearSVC\n",
    "\n",
    "lscv = LinearSVC(dual='auto')\n",
    "lscv.fit(X_train, y_train)\n",
    "\n",
    "\n",
    "y_pred_lscv = lscv.predict(X_test)\n",
    "lscv_report = classification_report(y_test, y_pred_lscv)\n",
    "lscv_accuracy = accuracy_score(y_test, y_pred_lscv)\n",
    "\n",
    "print(f\"Linear SVC Accuracy: {lscv_accuracy:.2f}\")"
   ]
  },
  {
   "cell_type": "markdown",
   "id": "5cce73fc-8831-4b75-baea-d6efe04566ab",
   "metadata": {},
   "source": [
    "### Print report showing accuracy, recall, precision and f1-score for each classification model. Which metric is most important for this problem? (You will explain your answer in the report in Part 3). ( 2 points)"
   ]
  },
  {
   "cell_type": "code",
   "execution_count": 45,
   "id": "2b54de6b-de61-46a8-b937-6dcba00f238e",
   "metadata": {},
   "outputs": [
    {
     "name": "stdout",
     "output_type": "stream",
     "text": [
      "KNN Classification Report:\n",
      "              precision    recall  f1-score   support\n",
      "\n",
      "       False       0.57      0.55      0.56      3747\n",
      "        True       0.62      0.64      0.63      4395\n",
      "\n",
      "    accuracy                           0.60      8142\n",
      "   macro avg       0.59      0.59      0.59      8142\n",
      "weighted avg       0.60      0.60      0.60      8142\n",
      "\n",
      "Best KNN Classification Report (Grid Search CV):\n",
      "              precision    recall  f1-score   support\n",
      "\n",
      "       False       0.65      0.71      0.68      3747\n",
      "        True       0.73      0.68      0.70      4395\n",
      "\n",
      "    accuracy                           0.69      8142\n",
      "   macro avg       0.69      0.69      0.69      8142\n",
      "weighted avg       0.69      0.69      0.69      8142\n",
      "\n",
      "Logistic Regression Classification Report:\n",
      "              precision    recall  f1-score   support\n",
      "\n",
      "       False       0.65      0.84      0.73      3747\n",
      "        True       0.81      0.62      0.70      4395\n",
      "\n",
      "    accuracy                           0.72      8142\n",
      "   macro avg       0.73      0.73      0.72      8142\n",
      "weighted avg       0.74      0.72      0.72      8142\n",
      "\n",
      "Linear SVC Classification Report:\n",
      "              precision    recall  f1-score   support\n",
      "\n",
      "       False       0.65      0.86      0.74      3747\n",
      "        True       0.83      0.60      0.70      4395\n",
      "\n",
      "    accuracy                           0.72      8142\n",
      "   macro avg       0.74      0.73      0.72      8142\n",
      "weighted avg       0.75      0.72      0.72      8142\n",
      "\n"
     ]
    }
   ],
   "source": [
    "print(\"KNN Classification Report:\")\n",
    "print(knn_report)\n",
    "\n",
    "print(\"Best KNN Classification Report (Grid Search CV):\")\n",
    "print(knn_gscv_report)\n",
    "\n",
    "print(\"Logistic Regression Classification Report:\")\n",
    "print(log_report)\n",
    "\n",
    "print(\"Linear SVC Classification Report:\")\n",
    "print(lscv_report)"
   ]
  },
  {
   "cell_type": "code",
   "execution_count": 46,
   "id": "c42b5fd2-79c6-428d-ac2f-f90eb92f3f20",
   "metadata": {},
   "outputs": [
    {
     "data": {
      "text/plain": [
       "Text(0.5, 23.52222222222222, 'Predicted Outcome Type')"
      ]
     },
     "execution_count": 46,
     "metadata": {},
     "output_type": "execute_result"
    },
    {
     "data": {
      "image/png": "[encoded data removed]",
      "text/plain": [
       "<Figure size 640x480 with 1 Axes>"
      ]
     },
     "metadata": {},
     "output_type": "display_data"
    }
   ],
   "source": [
    "# See [1]. ChatGPT helped me fix the syntax for this code. \n",
    "cm = confusion_matrix(y_test, y_pred)\n",
    "plt.figure()\n",
    "sns.heatmap(cm, annot=True, fmt='d', cmap='Blues', cbar=False)\n",
    "\n",
    "plt.title('Confusion Matrix for KNN', fontsize=16)\n",
    "plt.ylabel('True Outcome Type', fontsize=12)\n",
    "plt.xlabel('Predicted Outcome Type', fontsize=12)"
   ]
  },
  {
   "cell_type": "code",
   "execution_count": 47,
   "id": "f7866e60-e9bf-48c0-ac15-7446f811b0eb",
   "metadata": {},
   "outputs": [
    {
     "data": {
      "text/plain": [
       "Text(0.5, 23.52222222222222, 'Predicted Outcome Type')"
      ]
     },
     "execution_count": 47,
     "metadata": {},
     "output_type": "execute_result"
    },
    {
     "data": {
      "image/png": "[encoded data removed]",
      "text/plain": [
       "<Figure size 640x480 with 1 Axes>"
      ]
     },
     "metadata": {},
     "output_type": "display_data"
    }
   ],
   "source": [
    "cm = confusion_matrix(y_test, y_pred_best_knn)\n",
    "plt.figure()\n",
    "sns.heatmap(cm, annot=True, fmt='d', cmap='Blues', cbar=False)\n",
    "\n",
    "plt.title('Confusion Matrix for KNN (Grid Search CV)', fontsize=16)\n",
    "plt.ylabel('True Outcome Type', fontsize=12)\n",
    "plt.xlabel('Predicted Outcome Type', fontsize=12)"
   ]
  },
  {
   "cell_type": "code",
   "execution_count": 48,
   "id": "f91b6372-d2d2-4aeb-a2c9-166a504442d9",
   "metadata": {},
   "outputs": [
    {
     "data": {
      "text/plain": [
       "Text(0.5, 23.52222222222222, 'Predicted Outcome Type')"
      ]
     },
     "execution_count": 48,
     "metadata": {},
     "output_type": "execute_result"
    },
    {
     "data": {
      "image/png": "[encoded data removed]",
      "text/plain": [
       "<Figure size 640x480 with 1 Axes>"
      ]
     },
     "metadata": {},
     "output_type": "display_data"
    }
   ],
   "source": [
    "cm = confusion_matrix(y_test, y_pred_log)\n",
    "plt.figure()\n",
    "sns.heatmap(cm, annot=True, fmt='d', cmap='Blues', cbar=False)\n",
    "\n",
    "plt.title('Confusion Matrix for Logistic Regression', fontsize=16)\n",
    "plt.ylabel('True Outcome Type', fontsize=12)\n",
    "plt.xlabel('Predicted Outcome Type', fontsize=12)"
   ]
  },
  {
   "cell_type": "code",
   "execution_count": 50,
   "id": "0ccb7c4f-49cc-4e84-b244-92af061b5ca2",
   "metadata": {},
   "outputs": [
    {
     "data": {
      "text/plain": [
       "Text(0.5, 23.52222222222222, 'Predicted Outcome Type')"
      ]
     },
     "execution_count": 50,
     "metadata": {},
     "output_type": "execute_result"
    },
    {
     "data": {
      "image/png": "[encoded data removed]",
      "text/plain": [
       "<Figure size 640x480 with 1 Axes>"
      ]
     },
     "metadata": {},
     "output_type": "display_data"
    }
   ],
   "source": [
    "cm = confusion_matrix(y_test, y_pred_lscv)\n",
    "plt.figure()\n",
    "sns.heatmap(cm, annot=True, fmt='d', cmap='Blues', cbar=False)\n",
    "\n",
    "plt.title('Confusion Matrix for Linear SVC', fontsize=16)\n",
    "plt.ylabel('True Outcome Type', fontsize=12)\n",
    "plt.xlabel('Predicted Outcome Type', fontsize=12)"
   ]
  },
  {
   "cell_type": "markdown",
   "id": "963844e4-5328-4935-8342-b95676984576",
   "metadata": {},
   "source": [
    "The most important metric for this problem is accuracy. Accuracy will allow us to determine the predictive performance overall and the model's ability to distinguish true positives and true negative correctly."
   ]
  }
 ],
 "metadata": {
  "kernelspec": {
   "display_name": "Python 3 (ipykernel)",
   "language": "python",
   "name": "python3"
  },
  "language_info": {
   "codemirror_mode": {
    "name": "ipython",
    "version": 3
   },
   "file_extension": ".py",
   "mimetype": "text/x-python",
   "name": "python",
   "nbconvert_exporter": "python",
   "pygments_lexer": "ipython3",
   "version": "3.11.1"
  }
 },
 "nbformat": 4,
 "nbformat_minor": 5
}
